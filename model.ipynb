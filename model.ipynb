{
 "cells": [
  {
   "cell_type": "code",
   "execution_count": 5,
   "metadata": {},
   "outputs": [],
   "source": [
    "from fastai.text import *\n",
    "\n",
    "path = Path(\"./\")\n",
    "\n",
    "data_lm = TextLMDataBunch.from_csv(path,\"lyrics-dataset.txt\", text_cols=\"lyrics\")\n",
    "\n",
    "data_lm.save('data_lm.pkl')\n",
    "data_lm = load_data(path, 'data_lm.pkl')\n",
    "\n",
    "learn = language_model_learner(data_lm, AWD_LSTM, drop_mult=0.5, metrics=error_rate)"
   ]
  },
  {
   "cell_type": "code",
   "execution_count": 6,
   "metadata": {},
   "outputs": [
    {
     "data": {
      "text/html": [],
      "text/plain": [
       "<IPython.core.display.HTML object>"
      ]
     },
     "metadata": {},
     "output_type": "display_data"
    },
    {
     "name": "stdout",
     "output_type": "stream",
     "text": [
      "LR Finder is complete, type {learner_name}.recorder.plot() to see the graph.\n"
     ]
    }
   ],
   "source": [
    "learn.lr_find()"
   ]
  },
  {
   "cell_type": "code",
   "execution_count": 137,
   "metadata": {},
   "outputs": [
    {
     "data": {
      "image/png": "[encoded data removed]",
      "text/plain": [
       "<Figure size 432x288 with 1 Axes>"
      ]
     },
     "metadata": {
      "needs_background": "light"
     },
     "output_type": "display_data"
    }
   ],
   "source": [
    "learn.recorder.plot()"
   ]
  },
  {
   "cell_type": "code",
   "execution_count": 7,
   "metadata": {},
   "outputs": [
    {
     "data": {
      "text/html": [
       "<table border=\"1\" class=\"dataframe\">\n",
       "  <thead>\n",
       "    <tr style=\"text-align: left;\">\n",
       "      <th>epoch</th>\n",
       "      <th>train_loss</th>\n",
       "      <th>valid_loss</th>\n",
       "      <th>error_rate</th>\n",
       "      <th>time</th>\n",
       "    </tr>\n",
       "  </thead>\n",
       "  <tbody>\n",
       "    <tr>\n",
       "      <td>0</td>\n",
       "      <td>4.461126</td>\n",
       "      <td>3.680756</td>\n",
       "      <td>0.733147</td>\n",
       "      <td>00:01</td>\n",
       "    </tr>\n",
       "    <tr>\n",
       "      <td>1</td>\n",
       "      <td>3.779322</td>\n",
       "      <td>3.843764</td>\n",
       "      <td>0.736161</td>\n",
       "      <td>00:00</td>\n",
       "    </tr>\n",
       "    <tr>\n",
       "      <td>2</td>\n",
       "      <td>3.222413</td>\n",
       "      <td>3.696087</td>\n",
       "      <td>0.694531</td>\n",
       "      <td>00:00</td>\n",
       "    </tr>\n",
       "    <tr>\n",
       "      <td>3</td>\n",
       "      <td>2.810146</td>\n",
       "      <td>3.716588</td>\n",
       "      <td>0.698772</td>\n",
       "      <td>00:00</td>\n",
       "    </tr>\n",
       "    <tr>\n",
       "      <td>4</td>\n",
       "      <td>2.508656</td>\n",
       "      <td>3.695581</td>\n",
       "      <td>0.690737</td>\n",
       "      <td>00:00</td>\n",
       "    </tr>\n",
       "  </tbody>\n",
       "</table>"
      ],
      "text/plain": [
       "<IPython.core.display.HTML object>"
      ]
     },
     "metadata": {},
     "output_type": "display_data"
    }
   ],
   "source": [
    "learn.fit_one_cycle(5, 1e-01, moms=(0.8,0.7))"
   ]
  },
  {
   "cell_type": "code",
   "execution_count": 8,
   "metadata": {},
   "outputs": [],
   "source": [
    "learn.unfreeze()"
   ]
  },
  {
   "cell_type": "code",
   "execution_count": 9,
   "metadata": {},
   "outputs": [
    {
     "data": {
      "text/html": [
       "<table border=\"1\" class=\"dataframe\">\n",
       "  <thead>\n",
       "    <tr style=\"text-align: left;\">\n",
       "      <th>epoch</th>\n",
       "      <th>train_loss</th>\n",
       "      <th>valid_loss</th>\n",
       "      <th>error_rate</th>\n",
       "      <th>time</th>\n",
       "    </tr>\n",
       "  </thead>\n",
       "  <tbody>\n",
       "    <tr>\n",
       "      <td>0</td>\n",
       "      <td>1.632013</td>\n",
       "      <td>3.756289</td>\n",
       "      <td>0.692634</td>\n",
       "      <td>00:01</td>\n",
       "    </tr>\n",
       "    <tr>\n",
       "      <td>1</td>\n",
       "      <td>1.612022</td>\n",
       "      <td>3.901414</td>\n",
       "      <td>0.706920</td>\n",
       "      <td>00:01</td>\n",
       "    </tr>\n",
       "    <tr>\n",
       "      <td>2</td>\n",
       "      <td>1.354343</td>\n",
       "      <td>4.144596</td>\n",
       "      <td>0.712277</td>\n",
       "      <td>00:01</td>\n",
       "    </tr>\n",
       "    <tr>\n",
       "      <td>3</td>\n",
       "      <td>1.108765</td>\n",
       "      <td>4.219363</td>\n",
       "      <td>0.709152</td>\n",
       "      <td>00:01</td>\n",
       "    </tr>\n",
       "    <tr>\n",
       "      <td>4</td>\n",
       "      <td>0.919459</td>\n",
       "      <td>4.243863</td>\n",
       "      <td>0.719085</td>\n",
       "      <td>00:01</td>\n",
       "    </tr>\n",
       "  </tbody>\n",
       "</table>"
      ],
      "text/plain": [
       "<IPython.core.display.HTML object>"
      ]
     },
     "metadata": {},
     "output_type": "display_data"
    }
   ],
   "source": [
    "learn.fit_one_cycle(5, 1e-02, moms=(0.8,0.7))"
   ]
  },
  {
   "cell_type": "code",
   "execution_count": 10,
   "metadata": {},
   "outputs": [
    {
     "data": {
      "text/html": [
       "<table border=\"1\" class=\"dataframe\">\n",
       "  <thead>\n",
       "    <tr style=\"text-align: left;\">\n",
       "      <th>epoch</th>\n",
       "      <th>train_loss</th>\n",
       "      <th>valid_loss</th>\n",
       "      <th>error_rate</th>\n",
       "      <th>time</th>\n",
       "    </tr>\n",
       "  </thead>\n",
       "  <tbody>\n",
       "    <tr>\n",
       "      <td>0</td>\n",
       "      <td>0.339444</td>\n",
       "      <td>4.452199</td>\n",
       "      <td>0.716741</td>\n",
       "      <td>00:01</td>\n",
       "    </tr>\n",
       "    <tr>\n",
       "      <td>1</td>\n",
       "      <td>0.342448</td>\n",
       "      <td>4.606980</td>\n",
       "      <td>0.721875</td>\n",
       "      <td>00:01</td>\n",
       "    </tr>\n",
       "    <tr>\n",
       "      <td>2</td>\n",
       "      <td>0.353078</td>\n",
       "      <td>4.549981</td>\n",
       "      <td>0.727790</td>\n",
       "      <td>00:01</td>\n",
       "    </tr>\n",
       "    <tr>\n",
       "      <td>3</td>\n",
       "      <td>0.311278</td>\n",
       "      <td>4.526500</td>\n",
       "      <td>0.729129</td>\n",
       "      <td>00:01</td>\n",
       "    </tr>\n",
       "    <tr>\n",
       "      <td>4</td>\n",
       "      <td>0.275064</td>\n",
       "      <td>4.495667</td>\n",
       "      <td>0.725446</td>\n",
       "      <td>00:01</td>\n",
       "    </tr>\n",
       "  </tbody>\n",
       "</table>"
      ],
      "text/plain": [
       "<IPython.core.display.HTML object>"
      ]
     },
     "metadata": {},
     "output_type": "display_data"
    }
   ],
   "source": [
    "learn.fit_one_cycle(5, 1e-02, moms=(0.8,0.7))"
   ]
  },
  {
   "cell_type": "code",
   "execution_count": 11,
   "metadata": {},
   "outputs": [
    {
     "name": "stdout",
     "output_type": "stream",
     "text": [
      "White wine, cocaine , need good white \n",
      " \n",
      "  < i>[lil Peep : ] < / i > \n",
      "  All this stress \n",
      "  Look at this mess \n",
      "  Look at my head , i 'm better off dead \n",
      "  Dyin ' out west \n",
      "  Tryin ' my best \n",
      "  Layin ' in bed , i was comin ' down then \n",
      "  No more pain , locked away \n",
      "  i go insane \n",
      "  i 'm so insane \n",
      "  In my brain everyday , i go insane \n",
      "  i 'm so insane \n",
      "  Leave me alone tonight , i 'm good on my own tonight \n",
      "  i 'm on the lonely road \n",
      "  i 'm just home tonight \n",
      "  i 'm good on my own tonight \n",
      "  i 'm on the road tonight \n",
      "  i 'm goin' home tonight \n",
      "  Leave me alone tonight , i 'm good on my own tonight \n",
      "  i 'm on the road tonight \n",
      "  i 'm goin' home tonight \n",
      "  Leave me alone tonight , i 'm good on my own tonight \n",
      "  i 'm on the road tonight \n",
      "  i 'm goin' home tonight \n",
      "  Leave\n"
     ]
    }
   ],
   "source": [
    "predicted_lyrics = learn.predict(\"White wine, cocaine\", n_words=200, temperature=1.1, min_p=0.001)\n",
    "print(predicted_lyrics)"
   ]
  },
  {
   "cell_type": "code",
   "execution_count": 12,
   "metadata": {},
   "outputs": [],
   "source": [
    "def predict(sentence, n_words=100):\n",
    "    return(learn.predict(sentence, n_words=n_words, temperature=1.1))"
   ]
  },
  {
   "cell_type": "code",
   "execution_count": 13,
   "metadata": {},
   "outputs": [
    {
     "name": "stdout",
     "output_type": "stream",
     "text": [
      "tonight shawty , nice \n",
      "  world have no one by my side \n",
      "  Til the reaper got ahold of me then i would take my last flight \n",
      "  Where ever did you go ? i 've been waitin ' for weeks \n",
      "  i do n't think i 'm gon na make it , please do n't take it from me \n",
      "  So it seems every time that i die , i wake up \n",
      "  When it 's time to meet my maker i 'll be ready for him xxbos I'mma take my time when i 'm in it \n",
      "  I'mma make my mind up by tonight \n",
      "  No i ca n't die with no else \n",
      "  'cause do n't born in the summer now \n",
      "  Do n't hit my stand and do n't even want to \n",
      "  Pain , pain , pain , pain whip \n",
      "  Two racks on my new shoes \n",
      "  Why the fuck do i do that \n",
      "  Two racks on some Gucci shoes \n",
      "  Why the fuck do i do that ? \n",
      "  Tell 'em why the fuck i do that \n",
      "  Who 's that ? wish you were in a room \n",
      "  Why the fuck do you do that ? \n",
      "  Tell me why the fuck do you do that \n",
      " \n",
      "  Give me a break from all this bullshit \n",
      "  Give me a break then we 'll go tired of fun \n",
      "  i can always sing this shit \n",
      "  've done myself on me that all she want ? \n",
      "  Girl , you thought all about the numbers make you scared ? Baby , you know i 'm growing so tired of this \n",
      "  Another feeling that i 'm not fuckin ' with me \n",
      "  But money ai n't getting it all and she tonight \n",
      "  We just fuckin ' me away \n",
      "  Just the lonely came through \n",
      "  Maybe not \n",
      "  i say you 're a good girl , i say you 're a good girl \n",
      "  Jugging on a Friday , but i saw you on the freeway ( Skrrt ) \n",
      "  i can not forget that face , i do n't even know your name \n",
      "  i 'm in love with a\n"
     ]
    }
   ],
   "source": [
    "sentence = \"tonight\"\n",
    "print(predict(sentence, 400))"
   ]
  },
  {
   "cell_type": "code",
   "execution_count": 14,
   "metadata": {},
   "outputs": [],
   "source": [
    "learn.save(\"/home/jupyter/projects/modeling_gustav/model/lil-peep-lyrics-model\")"
   ]
  },
  {
   "cell_type": "code",
   "execution_count": null,
   "metadata": {},
   "outputs": [],
   "source": []
  },
  {
   "cell_type": "code",
   "execution_count": null,
   "metadata": {},
   "outputs": [],
   "source": []
  }
 ],
 "metadata": {
  "kernelspec": {
   "display_name": "Python 3",
   "language": "python",
   "name": "python3"
  },
  "language_info": {
   "codemirror_mode": {
    "name": "ipython",
    "version": 3
   },
   "file_extension": ".py",
   "mimetype": "text/x-python",
   "name": "python",
   "nbconvert_exporter": "python",
   "pygments_lexer": "ipython3",
   "version": "3.7.4"
  }
 },
 "nbformat": 4,
 "nbformat_minor": 4
}
